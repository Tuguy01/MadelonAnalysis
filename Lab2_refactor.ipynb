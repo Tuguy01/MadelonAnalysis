{
 "cells": [
  {
   "cell_type": "code",
   "execution_count": 3,
   "metadata": {},
   "outputs": [],
   "source": [
    "import numpy as np\n",
    "import matplotlib.pyplot as plt\n",
    "import pandas as pd\n",
    "import pylab as pl\n",
    "\n",
    "from sklearn.neighbors import KNeighborsClassifier\n",
    "from sklearn.tree import DecisionTreeClassifier\n",
    "from sklearn.svm import SVC\n",
    "from sklearn.model_selection import train_test_split\n",
    "from sklearn.pipeline import Pipeline\n",
    "from sklearn.preprocessing import MinMaxScaler, StandardScaler\n",
    "from sklearn.feature_selection import SelectFromModel, SelectKBest, RFE\n",
    "from sklearn.metrics import classification_report, log_loss, confusion_matrix\n",
    "from sklearn.ensemble import VotingClassifier\n",
    "\n",
    "from scipy import stats"
   ]
  },
  {
   "cell_type": "markdown",
   "metadata": {},
   "source": [
    "Загрузка данных"
   ]
  },
  {
   "cell_type": "code",
   "execution_count": 4,
   "metadata": {},
   "outputs": [],
   "source": [
    "with open(\"madelon_train.data\", \"r\") as f:\n",
    "    train_values = np.fromstring(f.read(), dtype=int, sep=\" \").reshape((2000, 500))\n",
    "\n",
    "with open(\"madelon_train.labels\", \"r\") as f:\n",
    "    train_labels = np.fromstring(f.read(), dtype=int, sep=\" \").reshape((2000,))\n",
    "\n",
    "with open(\"madelon_valid.data\", \"r\") as f:\n",
    "    valid_values = np.fromstring(f.read(), dtype=int, sep=\" \").reshape((600, 500))\n",
    "\n",
    "with open(\"madelon_valid.labels\", \"r\") as f:\n",
    "    valid_labels = np.fromstring(f.read(), dtype=int, sep=\" \").reshape((600,))"
   ]
  },
  {
   "cell_type": "markdown",
   "metadata": {},
   "source": [
    "Подбор наилучшего количества соседей для KNeighborsClassifier"
   ]
  },
  {
   "cell_type": "code",
   "execution_count": 5,
   "metadata": {},
   "outputs": [
    {
     "data": {
      "text/plain": [
       "[<matplotlib.lines.Line2D at 0x7f10097765c0>]"
      ]
     },
     "execution_count": 5,
     "metadata": {},
     "output_type": "execute_result"
    },
    {
     "data": {
      "image/png": "[encoded data removed]",
      "text/plain": [
       "<Figure size 640x480 with 1 Axes>"
      ]
     },
     "metadata": {},
     "output_type": "display_data"
    }
   ],
   "source": [
    "from sklearn.metrics import accuracy_score\n",
    "accuracy_score(valid_labels, KNeighborsClassifier(n_neighbors=1).fit(train_values, train_labels).predict(valid_values))\n",
    "scores = []\n",
    "for k in range(1, 51):\n",
    "    scores.append(accuracy_score(valid_labels, KNeighborsClassifier(n_neighbors=k).fit(train_values, train_labels).predict(valid_values)))\n",
    "pl.plot(scores)"
   ]
  },
  {
   "cell_type": "code",
   "execution_count": 6,
   "metadata": {},
   "outputs": [],
   "source": [
    "names_of_classifiers = [\n",
    "    'KNeighbors',\n",
    "    'DecisionTree',\n",
    "    'SVClassifier',\n",
    "    'Voting'\n",
    "]\n",
    "\n",
    "KNN33 = KNeighborsClassifier(n_neighbors=33)\n",
    "DTE = DecisionTreeClassifier(criterion='entropy', splitter='best', max_depth=5)\n",
    "SVBEST = SVC(C=2.4)\n",
    "\n",
    "classifiers = [\n",
    "    KNN33, DTE, SVBEST,\n",
    "    VotingClassifier(estimators=[\n",
    "        ('knn', KNN33),\n",
    "        ('dt', DTE),\n",
    "        ('svc', SVBEST)],\n",
    "        voting='hard')]"
   ]
  },
  {
   "cell_type": "code",
   "execution_count": 7,
   "metadata": {},
   "outputs": [],
   "source": [
    "mad_raw_valid_scores = {}\n",
    "mad_raw_y_preds = {}\n",
    "\n",
    "for name, clfr in zip(names_of_classifiers, classifiers):\n",
    "    clfr.fit(train_values, train_labels)\n",
    "    valid_score = clfr.score(valid_values, valid_labels)\n",
    "    y_pred = clfr.predict(valid_values)\n",
    "\n",
    "    mad_raw_valid_scores[name] = valid_score\n",
    "    mad_raw_y_preds[name] = y_pred  "
   ]
  },
  {
   "cell_type": "code",
   "execution_count": 8,
   "metadata": {},
   "outputs": [
    {
     "data": {
      "text/plain": [
       "{'KNeighbors': 0.7716666666666666,\n",
       " 'DecisionTree': 0.7933333333333333,\n",
       " 'SVClassifier': 0.7033333333333334,\n",
       " 'Voting': 0.7933333333333333}"
      ]
     },
     "execution_count": 8,
     "metadata": {},
     "output_type": "execute_result"
    }
   ],
   "source": [
    "mad_raw_valid_scores"
   ]
  },
  {
   "cell_type": "markdown",
   "metadata": {},
   "source": [
    "Удаление шумовых объектов"
   ]
  },
  {
   "cell_type": "code",
   "execution_count": 9,
   "metadata": {},
   "outputs": [],
   "source": [
    "z_scores_train = stats.zscore(train_values)\n",
    "z_scores_valid = stats.zscore(valid_values)\n",
    "\n",
    "threshold = 5\n",
    "\n",
    "outliers_indices_train = np.where(np.abs(z_scores_train) > threshold)\n"
   ]
  },
  {
   "cell_type": "code",
   "execution_count": 10,
   "metadata": {},
   "outputs": [
    {
     "name": "stdout",
     "output_type": "stream",
     "text": [
      "(1992, 500)\n"
     ]
    }
   ],
   "source": [
    "train_values_filtered = np.delete(train_values, outliers_indices_train, 0)\n",
    "train_labels_filtered = np.delete(train_labels, outliers_indices_train, 0)\n",
    "\n",
    "print(train_values_filtered.shape)\n"
   ]
  },
  {
   "cell_type": "code",
   "execution_count": 11,
   "metadata": {},
   "outputs": [],
   "source": [
    "mad_raw_valid_scores = {}\n",
    "mad_raw_y_preds = {}\n",
    "\n",
    "for name, clfr in zip(names_of_classifiers, classifiers):\n",
    "    clfr.fit(train_values_filtered, train_labels_filtered)\n",
    "    valid_score = clfr.score(valid_values, valid_labels)\n",
    "    y_pred = clfr.predict(valid_values)\n",
    "\n",
    "    mad_raw_valid_scores[name] = valid_score\n",
    "    mad_raw_y_preds[name] = y_pred  "
   ]
  },
  {
   "cell_type": "code",
   "execution_count": 12,
   "metadata": {},
   "outputs": [
    {
     "data": {
      "text/plain": [
       "{'KNeighbors': 0.7716666666666666,\n",
       " 'DecisionTree': 0.795,\n",
       " 'SVClassifier': 0.705,\n",
       " 'Voting': 0.7933333333333333}"
      ]
     },
     "execution_count": 12,
     "metadata": {},
     "output_type": "execute_result"
    }
   ],
   "source": [
    "mad_raw_valid_scores"
   ]
  },
  {
   "cell_type": "markdown",
   "metadata": {},
   "source": [
    "Удаление шумовых признаков"
   ]
  },
  {
   "cell_type": "code",
   "execution_count": 13,
   "metadata": {},
   "outputs": [],
   "source": [
    "train_df = pd.DataFrame(data=train_values[0:,0:],\n",
    "                        index=[i for i in range(0, train_values.shape[0])],\n",
    "                        columns=[i for i in range(0, train_values.shape[1])])\n",
    "\n",
    "valid_df = pd.DataFrame(data=valid_values[0:,0:],\n",
    "                        index=[i for i in range(0, valid_values.shape[0])],\n",
    "                        columns=[i for i in range(0, valid_values.shape[1])])"
   ]
  },
  {
   "cell_type": "code",
   "execution_count": 17,
   "metadata": {},
   "outputs": [
    {
     "name": "stdout",
     "output_type": "stream",
     "text": [
      "Удалены признаки с корреляцией выше 90%: [128, 281, 318, 336, 378, 433, 451, 472, 475, 493]\n"
     ]
    }
   ],
   "source": [
    "# Вычисление матрицы корреляции\n",
    "correlation_matrix = train_df.corr()\n",
    "\n",
    "# Создание маски для идентификации признаков с корреляцией выше 90%\n",
    "correlation_mask = correlation_matrix.abs() > 0.9\n",
    "\n",
    "# Создание маски для верхнего треугольника матрицы (чтобы избежать повторений)\n",
    "upper_triangle_mask = np.triu(np.ones(correlation_matrix.shape), k=1).astype(bool)\n",
    "\n",
    "# Применение маски к матрице корреляции\n",
    "correlation_mask = correlation_mask & upper_triangle_mask\n",
    "\n",
    "# Индексы признаков, которые нужно удалить\n",
    "features_to_drop = [column for column in correlation_mask.columns if any(correlation_mask[column])]\n",
    "\n",
    "# Удаление признаков с корреляцией выше 90%\n",
    "train_df_filtered = train_df.drop(columns=features_to_drop)\n",
    "valid_df_filtered = valid_df.drop(columns=features_to_drop)\n",
    "\n",
    "\n",
    "# Вывод информации о удаленных признаках\n",
    "print(f\"Удалены признаки с корреляцией выше 90%: {features_to_drop}\")\n",
    "\n",
    "# Вывод отфильтрованного DataFrame\n",
    "\n",
    "selected_train_values = train_df_filtered.values\n",
    "selected_valid_values = valid_df_filtered.values"
   ]
  },
  {
   "cell_type": "code",
   "execution_count": 18,
   "metadata": {},
   "outputs": [
    {
     "data": {
      "text/plain": [
       "(2000, 490)"
      ]
     },
     "execution_count": 18,
     "metadata": {},
     "output_type": "execute_result"
    }
   ],
   "source": [
    "selected_train_values.shape"
   ]
  },
  {
   "cell_type": "code",
   "execution_count": 20,
   "metadata": {},
   "outputs": [],
   "source": [
    "mad_raw_valid_scores = {}\n",
    "mad_raw_y_preds = {}\n",
    "\n",
    "for name, clfr in zip(names_of_classifiers, classifiers):\n",
    "    clfr.fit(selected_train_values, train_labels)\n",
    "    valid_score = clfr.score(selected_valid_values, valid_labels)\n",
    "    y_pred = clfr.predict(selected_valid_values)\n",
    "\n",
    "    mad_raw_valid_scores[name] = valid_score\n",
    "    mad_raw_y_preds[name] = y_pred  "
   ]
  },
  {
   "cell_type": "code",
   "execution_count": 21,
   "metadata": {},
   "outputs": [
    {
     "data": {
      "text/plain": [
       "{'KNeighbors': 0.6716666666666666,\n",
       " 'DecisionTree': 0.7716666666666666,\n",
       " 'SVClassifier': 0.655,\n",
       " 'Voting': 0.7233333333333334}"
      ]
     },
     "execution_count": 21,
     "metadata": {},
     "output_type": "execute_result"
    }
   ],
   "source": [
    "mad_raw_valid_scores"
   ]
  },
  {
   "cell_type": "markdown",
   "metadata": {},
   "source": [
    "Нормализация"
   ]
  },
  {
   "cell_type": "code",
   "execution_count": 39,
   "metadata": {},
   "outputs": [],
   "source": [
    "def myMinMaxScaler (df):\n",
    "    '''\n",
    "    PARAM(S):\n",
    "    input is a pandas DataFrame\n",
    "    lowerbound is the user-specified min (float)\n",
    "    upperbound is the user-specified max (float)\n",
    "    \n",
    "    RETURNS:\n",
    "    a transformed DataFrame whose values are between 0.0001 and 1\n",
    "    '''\n",
    "    mmdf = (df - df.min(axis=0)) / (df.max(axis=0) - df.min(axis=0))\n",
    "    return mmdf"
   ]
  },
  {
   "cell_type": "code",
   "execution_count": 40,
   "metadata": {},
   "outputs": [],
   "source": [
    "train_df = pd.DataFrame(data=train_values[0:,0:],\n",
    "                        index=[i for i in range(0, train_values.shape[0])],\n",
    "                        columns=[i for i in range(0, train_values.shape[1])])\n",
    "\n",
    "valid_df = pd.DataFrame(data=valid_values[0:,0:],\n",
    "                        index=[i for i in range(0, valid_values.shape[0])],\n",
    "                        columns=[i for i in range(0, valid_values.shape[1])])"
   ]
  },
  {
   "cell_type": "code",
   "execution_count": 41,
   "metadata": {},
   "outputs": [],
   "source": [
    "train_df = myMinMaxScaler(train_df)\n",
    "valid_df = myMinMaxScaler(valid_df)"
   ]
  },
  {
   "cell_type": "code",
   "execution_count": 42,
   "metadata": {},
   "outputs": [],
   "source": [
    "train_values_norm = train_df.values\n",
    "valid_values_norm = valid_df.values"
   ]
  },
  {
   "cell_type": "code",
   "execution_count": 43,
   "metadata": {},
   "outputs": [],
   "source": [
    "mad_raw_valid_scores = {}\n",
    "mad_raw_y_preds = {}\n",
    "\n",
    "for name, clfr in zip(names_of_classifiers, classifiers):\n",
    "    clfr.fit(train_values_norm, train_labels)\n",
    "    valid_score = clfr.score(valid_values_norm, valid_labels)\n",
    "    y_pred = clfr.predict(valid_values_norm)\n",
    "\n",
    "    mad_raw_valid_scores[name] = valid_score\n",
    "    mad_raw_y_preds[name] = y_pred"
   ]
  },
  {
   "cell_type": "code",
   "execution_count": 44,
   "metadata": {},
   "outputs": [
    {
     "data": {
      "text/plain": [
       "{'KNeighbors': 0.5966666666666667,\n",
       " 'DecisionTree': 0.765,\n",
       " 'SVClassifier': 0.5983333333333334,\n",
       " 'Voting': 0.69}"
      ]
     },
     "execution_count": 44,
     "metadata": {},
     "output_type": "execute_result"
    }
   ],
   "source": [
    "mad_raw_valid_scores"
   ]
  },
  {
   "cell_type": "markdown",
   "metadata": {},
   "source": [
    "Без шумовых объектов и признаков"
   ]
  },
  {
   "cell_type": "code",
   "execution_count": 48,
   "metadata": {},
   "outputs": [],
   "source": [
    "train_df = pd.DataFrame(data=train_values_filtered[0:,0:],\n",
    "                        index=[i for i in range(0, train_values_filtered.shape[0])],\n",
    "                        columns=[i for i in range(0, train_values_filtered.shape[1])])\n",
    "\n",
    "valid_df = pd.DataFrame(data=valid_values[0:,0:],\n",
    "                        index=[i for i in range(0, valid_values.shape[0])],\n",
    "                        columns=[i for i in range(0, valid_values.shape[1])])"
   ]
  },
  {
   "cell_type": "code",
   "execution_count": 50,
   "metadata": {},
   "outputs": [],
   "source": [
    "train_values_filtered_norm = train_df.drop(columns=features_to_drop).values\n",
    "valid_values_norm = valid_df.drop(columns=features_to_drop).values"
   ]
  },
  {
   "cell_type": "code",
   "execution_count": 51,
   "metadata": {},
   "outputs": [],
   "source": [
    "mad_raw_valid_scores = {}\n",
    "mad_raw_y_preds = {}\n",
    "\n",
    "for name, clfr in zip(names_of_classifiers, classifiers):\n",
    "    clfr.fit(train_values_filtered_norm, train_labels_filtered)\n",
    "    valid_score = clfr.score(valid_values_norm, valid_labels)\n",
    "    y_pred = clfr.predict(valid_values_norm)\n",
    "\n",
    "    mad_raw_valid_scores[name] = valid_score\n",
    "    mad_raw_y_preds[name] = y_pred"
   ]
  },
  {
   "cell_type": "code",
   "execution_count": 52,
   "metadata": {},
   "outputs": [
    {
     "data": {
      "text/plain": [
       "{'KNeighbors': 0.5283333333333333,\n",
       " 'DecisionTree': 0.7716666666666666,\n",
       " 'SVClassifier': 0.5716666666666667,\n",
       " 'Voting': 0.66}"
      ]
     },
     "execution_count": 52,
     "metadata": {},
     "output_type": "execute_result"
    }
   ],
   "source": [
    "mad_raw_valid_scores"
   ]
  }
 ],
 "metadata": {
  "kernelspec": {
   "display_name": "Python 3",
   "language": "python",
   "name": "python3"
  },
  "language_info": {
   "codemirror_mode": {
    "name": "ipython",
    "version": 3
   },
   "file_extension": ".py",
   "mimetype": "text/x-python",
   "name": "python",
   "nbconvert_exporter": "python",
   "pygments_lexer": "ipython3",
   "version": "3.10.12"
  }
 },
 "nbformat": 4,
 "nbformat_minor": 2
}
