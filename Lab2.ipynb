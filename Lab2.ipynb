{
 "cells": [
  {
   "cell_type": "code",
   "execution_count": 53,
   "metadata": {
    "ExecuteTime": {
     "end_time": "2023-12-05T01:14:43.464950854Z",
     "start_time": "2023-12-05T01:14:43.392228340Z"
    }
   },
   "outputs": [],
   "source": [
    "# from sklearn.preprocessing import StandardScaler\n",
    "# from sklearn.pipeline import Pipeline\n",
    "# from sklearn.model_selection import GridSearchCV\n",
    "\n",
    "from sklearn.neighbors import KNeighborsClassifier\n",
    "from sklearn.tree import DecisionTreeClassifier\n",
    "from sklearn.svm import SVC\n",
    "\n",
    "import numpy as np\n",
    "import matplotlib.pyplot as plt\n",
    "import pandas as pd\n",
    "\n",
    "from sklearn.model_selection import train_test_split\n",
    "from sklearn.pipeline import Pipeline\n",
    "\n",
    "from sklearn.preprocessing import MinMaxScaler, StandardScaler\n",
    "from scipy import stats\n",
    "\n",
    "from sklearn.feature_selection import SelectFromModel, SelectKBest, RFE\n",
    "\n",
    "from sklearn.metrics import classification_report, log_loss, confusion_matrix"
   ]
  },
  {
   "cell_type": "code",
   "execution_count": 54,
   "metadata": {
    "collapsed": false,
    "ExecuteTime": {
     "end_time": "2023-12-05T01:14:43.566447883Z",
     "start_time": "2023-12-05T01:14:43.400615342Z"
    }
   },
   "outputs": [],
   "source": [
    "with open(\"madelon_train.data\", \"r\") as f:\n",
    "    train_values = np.fromstring(f.read(), dtype=int, sep=\" \").reshape((2000, 500))\n",
    "\n",
    "with open(\"madelon_train.labels\", \"r\") as f:\n",
    "    train_labels = np.fromstring(f.read(), dtype=int, sep=\" \").reshape((2000,))\n",
    "\n",
    "with open(\"madelon_valid.data\", \"r\") as f:\n",
    "    valid_values = np.fromstring(f.read(), dtype=int, sep=\" \").reshape((600, 500))\n",
    "\n",
    "with open(\"madelon_valid.labels\", \"r\") as f:\n",
    "    valid_labels = np.fromstring(f.read(), dtype=int, sep=\" \").reshape((600,))\n",
    "    "
   ]
  },
  {
   "cell_type": "code",
   "execution_count": 55,
   "metadata": {
    "collapsed": false,
    "ExecuteTime": {
     "end_time": "2023-12-05T01:14:43.567296565Z",
     "start_time": "2023-12-05T01:14:43.462376926Z"
    }
   },
   "outputs": [],
   "source": [
    "names_of_classifiers = [\n",
    "    'KNeighbors',\n",
    "    'DecisionTree',\n",
    "    'SVClassifier'\n",
    "]\n",
    "\n",
    "classifiers = [\n",
    "    KNeighborsClassifier(),\n",
    "    DecisionTreeClassifier(),\n",
    "    SVC()]"
   ]
  },
  {
   "cell_type": "code",
   "execution_count": 56,
   "metadata": {
    "collapsed": false,
    "ExecuteTime": {
     "end_time": "2023-12-05T01:14:48.796516325Z",
     "start_time": "2023-12-05T01:14:43.472851564Z"
    }
   },
   "outputs": [],
   "source": [
    "mad_raw_valid_scores = {}\n",
    "mad_raw_y_preds = {}\n",
    "\n",
    "for name, clfr in zip(names_of_classifiers, classifiers):\n",
    "    clfr.fit(train_values, train_labels)\n",
    "\n",
    "    clfr.fit(train_values, train_labels)\n",
    "    valid_score = clfr.score(valid_values, valid_labels)\n",
    "    y_pred = clfr.predict(valid_values)\n",
    "\n",
    "    mad_raw_valid_scores[name] = valid_score\n",
    "    mad_raw_y_preds[name] = y_pred\n",
    "    "
   ]
  },
  {
   "cell_type": "code",
   "execution_count": 57,
   "metadata": {
    "collapsed": false,
    "ExecuteTime": {
     "end_time": "2023-12-05T01:14:48.822147699Z",
     "start_time": "2023-12-05T01:14:48.802243339Z"
    }
   },
   "outputs": [
    {
     "data": {
      "text/plain": "{'KNeighbors': 0.6916666666666667,\n 'DecisionTree': 0.7666666666666667,\n 'SVClassifier': 0.6866666666666666}"
     },
     "execution_count": 57,
     "metadata": {},
     "output_type": "execute_result"
    }
   ],
   "source": [
    "mad_raw_valid_scores"
   ]
  },
  {
   "cell_type": "code",
   "execution_count": 57,
   "metadata": {
    "ExecuteTime": {
     "end_time": "2023-12-05T01:14:48.822699084Z",
     "start_time": "2023-12-05T01:14:48.808650709Z"
    }
   },
   "outputs": [],
   "source": []
  },
  {
   "cell_type": "code",
   "execution_count": 75,
   "metadata": {
    "ExecuteTime": {
     "end_time": "2023-12-05T01:20:54.452653378Z",
     "start_time": "2023-12-05T01:20:54.447072996Z"
    }
   },
   "outputs": [],
   "source": [
    "def trainKneighbors(train_values, train_labels, valid_values, valid_labels):\n",
    "    scores = {}\n",
    "    preds = {}\n",
    "\n",
    "    print(train_values.shape, train_labels.shape)\n",
    "    for i in range(1, 50):\n",
    "        clfr = KNeighborsClassifier(n_neighbors=i) \n",
    "        clfr.fit(train_values, train_labels)\n",
    "        valid_score = clfr.score(valid_values, valid_labels)\n",
    "        y_pred = clfr.predict(valid_values)\n",
    "\n",
    "        scores[i] = valid_score\n",
    "        preds[i] = y_pred\n",
    "    return scores"
   ]
  },
  {
   "cell_type": "code",
   "execution_count": 76,
   "metadata": {
    "ExecuteTime": {
     "end_time": "2023-12-05T01:21:02.114035653Z",
     "start_time": "2023-12-05T01:20:55.651225158Z"
    }
   },
   "outputs": [
    {
     "name": "stdout",
     "output_type": "stream",
     "text": [
      "(600,)\n",
      "(2000, 500) (2000,)\n"
     ]
    },
    {
     "data": {
      "text/plain": "{1: 0.6533333333333333,\n 2: 0.6583333333333333,\n 3: 0.695,\n 4: 0.67,\n 5: 0.6916666666666667,\n 6: 0.7083333333333334,\n 7: 0.72,\n 8: 0.7233333333333334,\n 9: 0.7316666666666667,\n 10: 0.7333333333333333,\n 11: 0.725,\n 12: 0.725,\n 13: 0.7466666666666667,\n 14: 0.7483333333333333,\n 15: 0.755,\n 16: 0.7583333333333333,\n 17: 0.7533333333333333,\n 18: 0.7466666666666667,\n 19: 0.7433333333333333,\n 20: 0.755,\n 21: 0.76,\n 22: 0.75,\n 23: 0.755,\n 24: 0.745,\n 25: 0.76,\n 26: 0.7616666666666667,\n 27: 0.7683333333333333,\n 28: 0.7616666666666667,\n 29: 0.7633333333333333,\n 30: 0.7616666666666667,\n 31: 0.7666666666666667,\n 32: 0.7633333333333333,\n 33: 0.7716666666666666,\n 34: 0.7683333333333333,\n 35: 0.7616666666666667,\n 36: 0.7616666666666667,\n 37: 0.77,\n 38: 0.7666666666666667,\n 39: 0.7683333333333333,\n 40: 0.765,\n 41: 0.765,\n 42: 0.7683333333333333,\n 43: 0.765,\n 44: 0.7633333333333333,\n 45: 0.7666666666666667,\n 46: 0.7633333333333333,\n 47: 0.76,\n 48: 0.76,\n 49: 0.7566666666666667}"
     },
     "execution_count": 76,
     "metadata": {},
     "output_type": "execute_result"
    }
   ],
   "source": [
    "\n",
    "scores = trainKneighbors(train_values, train_labels, valid_values, valid_labels)\n",
    "scores"
   ]
  },
  {
   "cell_type": "code",
   "execution_count": 60,
   "metadata": {
    "ExecuteTime": {
     "end_time": "2023-12-05T01:14:57.207339471Z",
     "start_time": "2023-12-05T01:14:51.946469067Z"
    }
   },
   "outputs": [],
   "source": [
    "mad_raw_valid_scores = {}\n",
    "mad_raw_y_preds = {}\n",
    "\n",
    "for name, clfr in zip(names_of_classifiers, classifiers):\n",
    "    clfr.fit(train_values, train_labels)\n",
    "\n",
    "    clfr.fit(train_values, train_labels)\n",
    "    valid_score = clfr.score(valid_values, valid_labels)\n",
    "    y_pred = clfr.predict(valid_values)\n",
    "\n",
    "    mad_raw_valid_scores[name] = valid_score\n",
    "    mad_raw_y_preds[name] = y_pred"
   ]
  },
  {
   "cell_type": "code",
   "execution_count": 61,
   "metadata": {
    "ExecuteTime": {
     "end_time": "2023-12-05T01:14:57.232198503Z",
     "start_time": "2023-12-05T01:14:57.212996735Z"
    }
   },
   "outputs": [],
   "source": [
    "def myMinMaxScaler (df):\n",
    "\n",
    "    mmdf = (df - df.min(axis=0)) / (df.max(axis=0) - df.min(axis=0))\n",
    "    return mmdf"
   ]
  },
  {
   "cell_type": "code",
   "execution_count": 62,
   "metadata": {
    "ExecuteTime": {
     "end_time": "2023-12-05T01:14:57.259828744Z",
     "start_time": "2023-12-05T01:14:57.219323667Z"
    }
   },
   "outputs": [],
   "source": [
    "train_df = pd.DataFrame(data=train_values[0:,0:],\n",
    "                        index=[i for i in range(0, train_values.shape[0])],\n",
    "                        columns=[i for i in range(0, train_values.shape[1])])"
   ]
  },
  {
   "cell_type": "code",
   "execution_count": 63,
   "metadata": {
    "ExecuteTime": {
     "end_time": "2023-12-05T01:14:57.288238678Z",
     "start_time": "2023-12-05T01:14:57.246876092Z"
    }
   },
   "outputs": [
    {
     "data": {
      "text/plain": "      0    1    2    3    4    5    6    7    8    9    ...  490  491  492  \\\n0     485  477  537  479  452  471  491  476  475  473  ...  477  481  477   \n1     483  458  460  487  587  475  526  479  485  469  ...  463  478  487   \n2     487  542  499  468  448  471  442  478  480  477  ...  487  481  492   \n3     480  491  510  485  495  472  417  474  502  476  ...  491  480  474   \n4     484  502  528  489  466  481  402  478  487  468  ...  488  479  452   \n...   ...  ...  ...  ...  ...  ...  ...  ...  ...  ...  ...  ...  ...  ...   \n1995  490  505  503  474  463  461  519  476  518  467  ...  467  479  449   \n1996  480  475  476  480  495  482  515  479  480  484  ...  464  474  473   \n1997  480  517  631  470  485  474  535  476  493  466  ...  501  483  479   \n1998  484  481  505  478  542  477  518  477  510  472  ...  487  483  526   \n1999  474  493  469  486  521  475  494  479  481  473  ...  467  476  508   \n\n      493  494  495  496  497  498  499  \n0     485  511  485  481  479  475  496  \n1     338  513  486  483  492  510  517  \n2     650  506  501  480  489  499  498  \n3     572  454  469  475  482  494  461  \n4     435  486  508  481  504  495  511  \n...   ...  ...  ...  ...  ...  ...  ...  \n1995  588  499  506  475  463  507  501  \n1996  424  454  570  476  493  465  485  \n1997  687  488  488  483  500  523  481  \n1998  750  486  529  484  473  527  485  \n1999  449  463  533  481  489  516  516  \n\n[2000 rows x 500 columns]",
      "text/html": "<div>\n<style scoped>\n    .dataframe tbody tr th:only-of-type {\n        vertical-align: middle;\n    }\n\n    .dataframe tbody tr th {\n        vertical-align: top;\n    }\n\n    .dataframe thead th {\n        text-align: right;\n    }\n</style>\n<table border=\"1\" class=\"dataframe\">\n  <thead>\n    <tr style=\"text-align: right;\">\n      <th></th>\n      <th>0</th>\n      <th>1</th>\n      <th>2</th>\n      <th>3</th>\n      <th>4</th>\n      <th>5</th>\n      <th>6</th>\n      <th>7</th>\n      <th>8</th>\n      <th>9</th>\n      <th>...</th>\n      <th>490</th>\n      <th>491</th>\n      <th>492</th>\n      <th>493</th>\n      <th>494</th>\n      <th>495</th>\n      <th>496</th>\n      <th>497</th>\n      <th>498</th>\n      <th>499</th>\n    </tr>\n  </thead>\n  <tbody>\n    <tr>\n      <th>0</th>\n      <td>485</td>\n      <td>477</td>\n      <td>537</td>\n      <td>479</td>\n      <td>452</td>\n      <td>471</td>\n      <td>491</td>\n      <td>476</td>\n      <td>475</td>\n      <td>473</td>\n      <td>...</td>\n      <td>477</td>\n      <td>481</td>\n      <td>477</td>\n      <td>485</td>\n      <td>511</td>\n      <td>485</td>\n      <td>481</td>\n      <td>479</td>\n      <td>475</td>\n      <td>496</td>\n    </tr>\n    <tr>\n      <th>1</th>\n      <td>483</td>\n      <td>458</td>\n      <td>460</td>\n      <td>487</td>\n      <td>587</td>\n      <td>475</td>\n      <td>526</td>\n      <td>479</td>\n      <td>485</td>\n      <td>469</td>\n      <td>...</td>\n      <td>463</td>\n      <td>478</td>\n      <td>487</td>\n      <td>338</td>\n      <td>513</td>\n      <td>486</td>\n      <td>483</td>\n      <td>492</td>\n      <td>510</td>\n      <td>517</td>\n    </tr>\n    <tr>\n      <th>2</th>\n      <td>487</td>\n      <td>542</td>\n      <td>499</td>\n      <td>468</td>\n      <td>448</td>\n      <td>471</td>\n      <td>442</td>\n      <td>478</td>\n      <td>480</td>\n      <td>477</td>\n      <td>...</td>\n      <td>487</td>\n      <td>481</td>\n      <td>492</td>\n      <td>650</td>\n      <td>506</td>\n      <td>501</td>\n      <td>480</td>\n      <td>489</td>\n      <td>499</td>\n      <td>498</td>\n    </tr>\n    <tr>\n      <th>3</th>\n      <td>480</td>\n      <td>491</td>\n      <td>510</td>\n      <td>485</td>\n      <td>495</td>\n      <td>472</td>\n      <td>417</td>\n      <td>474</td>\n      <td>502</td>\n      <td>476</td>\n      <td>...</td>\n      <td>491</td>\n      <td>480</td>\n      <td>474</td>\n      <td>572</td>\n      <td>454</td>\n      <td>469</td>\n      <td>475</td>\n      <td>482</td>\n      <td>494</td>\n      <td>461</td>\n    </tr>\n    <tr>\n      <th>4</th>\n      <td>484</td>\n      <td>502</td>\n      <td>528</td>\n      <td>489</td>\n      <td>466</td>\n      <td>481</td>\n      <td>402</td>\n      <td>478</td>\n      <td>487</td>\n      <td>468</td>\n      <td>...</td>\n      <td>488</td>\n      <td>479</td>\n      <td>452</td>\n      <td>435</td>\n      <td>486</td>\n      <td>508</td>\n      <td>481</td>\n      <td>504</td>\n      <td>495</td>\n      <td>511</td>\n    </tr>\n    <tr>\n      <th>...</th>\n      <td>...</td>\n      <td>...</td>\n      <td>...</td>\n      <td>...</td>\n      <td>...</td>\n      <td>...</td>\n      <td>...</td>\n      <td>...</td>\n      <td>...</td>\n      <td>...</td>\n      <td>...</td>\n      <td>...</td>\n      <td>...</td>\n      <td>...</td>\n      <td>...</td>\n      <td>...</td>\n      <td>...</td>\n      <td>...</td>\n      <td>...</td>\n      <td>...</td>\n      <td>...</td>\n    </tr>\n    <tr>\n      <th>1995</th>\n      <td>490</td>\n      <td>505</td>\n      <td>503</td>\n      <td>474</td>\n      <td>463</td>\n      <td>461</td>\n      <td>519</td>\n      <td>476</td>\n      <td>518</td>\n      <td>467</td>\n      <td>...</td>\n      <td>467</td>\n      <td>479</td>\n      <td>449</td>\n      <td>588</td>\n      <td>499</td>\n      <td>506</td>\n      <td>475</td>\n      <td>463</td>\n      <td>507</td>\n      <td>501</td>\n    </tr>\n    <tr>\n      <th>1996</th>\n      <td>480</td>\n      <td>475</td>\n      <td>476</td>\n      <td>480</td>\n      <td>495</td>\n      <td>482</td>\n      <td>515</td>\n      <td>479</td>\n      <td>480</td>\n      <td>484</td>\n      <td>...</td>\n      <td>464</td>\n      <td>474</td>\n      <td>473</td>\n      <td>424</td>\n      <td>454</td>\n      <td>570</td>\n      <td>476</td>\n      <td>493</td>\n      <td>465</td>\n      <td>485</td>\n    </tr>\n    <tr>\n      <th>1997</th>\n      <td>480</td>\n      <td>517</td>\n      <td>631</td>\n      <td>470</td>\n      <td>485</td>\n      <td>474</td>\n      <td>535</td>\n      <td>476</td>\n      <td>493</td>\n      <td>466</td>\n      <td>...</td>\n      <td>501</td>\n      <td>483</td>\n      <td>479</td>\n      <td>687</td>\n      <td>488</td>\n      <td>488</td>\n      <td>483</td>\n      <td>500</td>\n      <td>523</td>\n      <td>481</td>\n    </tr>\n    <tr>\n      <th>1998</th>\n      <td>484</td>\n      <td>481</td>\n      <td>505</td>\n      <td>478</td>\n      <td>542</td>\n      <td>477</td>\n      <td>518</td>\n      <td>477</td>\n      <td>510</td>\n      <td>472</td>\n      <td>...</td>\n      <td>487</td>\n      <td>483</td>\n      <td>526</td>\n      <td>750</td>\n      <td>486</td>\n      <td>529</td>\n      <td>484</td>\n      <td>473</td>\n      <td>527</td>\n      <td>485</td>\n    </tr>\n    <tr>\n      <th>1999</th>\n      <td>474</td>\n      <td>493</td>\n      <td>469</td>\n      <td>486</td>\n      <td>521</td>\n      <td>475</td>\n      <td>494</td>\n      <td>479</td>\n      <td>481</td>\n      <td>473</td>\n      <td>...</td>\n      <td>467</td>\n      <td>476</td>\n      <td>508</td>\n      <td>449</td>\n      <td>463</td>\n      <td>533</td>\n      <td>481</td>\n      <td>489</td>\n      <td>516</td>\n      <td>516</td>\n    </tr>\n  </tbody>\n</table>\n<p>2000 rows × 500 columns</p>\n</div>"
     },
     "execution_count": 63,
     "metadata": {},
     "output_type": "execute_result"
    }
   ],
   "source": [
    "train_df"
   ]
  },
  {
   "cell_type": "code",
   "execution_count": 64,
   "metadata": {
    "ExecuteTime": {
     "end_time": "2023-12-05T01:14:57.447922876Z",
     "start_time": "2023-12-05T01:14:57.272384212Z"
    }
   },
   "outputs": [
    {
     "data": {
      "text/plain": "           0         1         2         3         4         5         6    \\\n0     0.560976  0.438356  0.588028  0.393939  0.255521  0.260870  0.566787   \n1     0.512195  0.351598  0.316901  0.515152  0.681388  0.347826  0.693141   \n2     0.609756  0.735160  0.454225  0.227273  0.242902  0.260870  0.389892   \n3     0.439024  0.502283  0.492958  0.484848  0.391167  0.282609  0.299639   \n4     0.536585  0.552511  0.556338  0.545455  0.299685  0.478261  0.245487   \n...        ...       ...       ...       ...       ...       ...       ...   \n1995  0.682927  0.566210  0.468310  0.318182  0.290221  0.043478  0.667870   \n1996  0.439024  0.429224  0.373239  0.409091  0.391167  0.500000  0.653430   \n1997  0.439024  0.621005  0.919014  0.257576  0.359621  0.326087  0.725632   \n1998  0.536585  0.456621  0.475352  0.378788  0.539432  0.391304  0.664260   \n1999  0.292683  0.511416  0.348592  0.500000  0.473186  0.347826  0.577617   \n\n      7         8         9    ...       490       491       492       493  \\\n0     0.5  0.424528  0.375000  ...  0.492958  0.529412  0.491429  0.449367   \n1     0.8  0.518868  0.291667  ...  0.394366  0.441176  0.548571  0.263291   \n2     0.7  0.471698  0.458333  ...  0.563380  0.529412  0.577143  0.658228   \n3     0.3  0.679245  0.437500  ...  0.591549  0.500000  0.474286  0.559494   \n4     0.7  0.537736  0.270833  ...  0.570423  0.470588  0.348571  0.386076   \n...   ...       ...       ...  ...       ...       ...       ...       ...   \n1995  0.5  0.830189  0.250000  ...  0.422535  0.470588  0.331429  0.579747   \n1996  0.8  0.471698  0.604167  ...  0.401408  0.323529  0.468571  0.372152   \n1997  0.5  0.594340  0.229167  ...  0.661972  0.588235  0.502857  0.705063   \n1998  0.6  0.754717  0.354167  ...  0.563380  0.588235  0.771429  0.784810   \n1999  0.8  0.481132  0.375000  ...  0.422535  0.382353  0.668571  0.403797   \n\n           494       495       496   497       498       499  \n0     0.578947  0.330798  0.558140  0.44  0.398577  0.516667  \n1     0.587045  0.334601  0.604651  0.57  0.523132  0.633333  \n2     0.558704  0.391635  0.534884  0.54  0.483986  0.527778  \n3     0.348178  0.269962  0.418605  0.47  0.466192  0.322222  \n4     0.477733  0.418251  0.558140  0.69  0.469751  0.600000  \n...        ...       ...       ...   ...       ...       ...  \n1995  0.530364  0.410646  0.418605  0.28  0.512456  0.544444  \n1996  0.348178  0.653992  0.441860  0.58  0.362989  0.455556  \n1997  0.485830  0.342205  0.604651  0.65  0.569395  0.433333  \n1998  0.477733  0.498099  0.627907  0.38  0.583630  0.455556  \n1999  0.384615  0.513308  0.558140  0.54  0.544484  0.627778  \n\n[2000 rows x 500 columns]",
      "text/html": "<div>\n<style scoped>\n    .dataframe tbody tr th:only-of-type {\n        vertical-align: middle;\n    }\n\n    .dataframe tbody tr th {\n        vertical-align: top;\n    }\n\n    .dataframe thead th {\n        text-align: right;\n    }\n</style>\n<table border=\"1\" class=\"dataframe\">\n  <thead>\n    <tr style=\"text-align: right;\">\n      <th></th>\n      <th>0</th>\n      <th>1</th>\n      <th>2</th>\n      <th>3</th>\n      <th>4</th>\n      <th>5</th>\n      <th>6</th>\n      <th>7</th>\n      <th>8</th>\n      <th>9</th>\n      <th>...</th>\n      <th>490</th>\n      <th>491</th>\n      <th>492</th>\n      <th>493</th>\n      <th>494</th>\n      <th>495</th>\n      <th>496</th>\n      <th>497</th>\n      <th>498</th>\n      <th>499</th>\n    </tr>\n  </thead>\n  <tbody>\n    <tr>\n      <th>0</th>\n      <td>0.560976</td>\n      <td>0.438356</td>\n      <td>0.588028</td>\n      <td>0.393939</td>\n      <td>0.255521</td>\n      <td>0.260870</td>\n      <td>0.566787</td>\n      <td>0.5</td>\n      <td>0.424528</td>\n      <td>0.375000</td>\n      <td>...</td>\n      <td>0.492958</td>\n      <td>0.529412</td>\n      <td>0.491429</td>\n      <td>0.449367</td>\n      <td>0.578947</td>\n      <td>0.330798</td>\n      <td>0.558140</td>\n      <td>0.44</td>\n      <td>0.398577</td>\n      <td>0.516667</td>\n    </tr>\n    <tr>\n      <th>1</th>\n      <td>0.512195</td>\n      <td>0.351598</td>\n      <td>0.316901</td>\n      <td>0.515152</td>\n      <td>0.681388</td>\n      <td>0.347826</td>\n      <td>0.693141</td>\n      <td>0.8</td>\n      <td>0.518868</td>\n      <td>0.291667</td>\n      <td>...</td>\n      <td>0.394366</td>\n      <td>0.441176</td>\n      <td>0.548571</td>\n      <td>0.263291</td>\n      <td>0.587045</td>\n      <td>0.334601</td>\n      <td>0.604651</td>\n      <td>0.57</td>\n      <td>0.523132</td>\n      <td>0.633333</td>\n    </tr>\n    <tr>\n      <th>2</th>\n      <td>0.609756</td>\n      <td>0.735160</td>\n      <td>0.454225</td>\n      <td>0.227273</td>\n      <td>0.242902</td>\n      <td>0.260870</td>\n      <td>0.389892</td>\n      <td>0.7</td>\n      <td>0.471698</td>\n      <td>0.458333</td>\n      <td>...</td>\n      <td>0.563380</td>\n      <td>0.529412</td>\n      <td>0.577143</td>\n      <td>0.658228</td>\n      <td>0.558704</td>\n      <td>0.391635</td>\n      <td>0.534884</td>\n      <td>0.54</td>\n      <td>0.483986</td>\n      <td>0.527778</td>\n    </tr>\n    <tr>\n      <th>3</th>\n      <td>0.439024</td>\n      <td>0.502283</td>\n      <td>0.492958</td>\n      <td>0.484848</td>\n      <td>0.391167</td>\n      <td>0.282609</td>\n      <td>0.299639</td>\n      <td>0.3</td>\n      <td>0.679245</td>\n      <td>0.437500</td>\n      <td>...</td>\n      <td>0.591549</td>\n      <td>0.500000</td>\n      <td>0.474286</td>\n      <td>0.559494</td>\n      <td>0.348178</td>\n      <td>0.269962</td>\n      <td>0.418605</td>\n      <td>0.47</td>\n      <td>0.466192</td>\n      <td>0.322222</td>\n    </tr>\n    <tr>\n      <th>4</th>\n      <td>0.536585</td>\n      <td>0.552511</td>\n      <td>0.556338</td>\n      <td>0.545455</td>\n      <td>0.299685</td>\n      <td>0.478261</td>\n      <td>0.245487</td>\n      <td>0.7</td>\n      <td>0.537736</td>\n      <td>0.270833</td>\n      <td>...</td>\n      <td>0.570423</td>\n      <td>0.470588</td>\n      <td>0.348571</td>\n      <td>0.386076</td>\n      <td>0.477733</td>\n      <td>0.418251</td>\n      <td>0.558140</td>\n      <td>0.69</td>\n      <td>0.469751</td>\n      <td>0.600000</td>\n    </tr>\n    <tr>\n      <th>...</th>\n      <td>...</td>\n      <td>...</td>\n      <td>...</td>\n      <td>...</td>\n      <td>...</td>\n      <td>...</td>\n      <td>...</td>\n      <td>...</td>\n      <td>...</td>\n      <td>...</td>\n      <td>...</td>\n      <td>...</td>\n      <td>...</td>\n      <td>...</td>\n      <td>...</td>\n      <td>...</td>\n      <td>...</td>\n      <td>...</td>\n      <td>...</td>\n      <td>...</td>\n      <td>...</td>\n    </tr>\n    <tr>\n      <th>1995</th>\n      <td>0.682927</td>\n      <td>0.566210</td>\n      <td>0.468310</td>\n      <td>0.318182</td>\n      <td>0.290221</td>\n      <td>0.043478</td>\n      <td>0.667870</td>\n      <td>0.5</td>\n      <td>0.830189</td>\n      <td>0.250000</td>\n      <td>...</td>\n      <td>0.422535</td>\n      <td>0.470588</td>\n      <td>0.331429</td>\n      <td>0.579747</td>\n      <td>0.530364</td>\n      <td>0.410646</td>\n      <td>0.418605</td>\n      <td>0.28</td>\n      <td>0.512456</td>\n      <td>0.544444</td>\n    </tr>\n    <tr>\n      <th>1996</th>\n      <td>0.439024</td>\n      <td>0.429224</td>\n      <td>0.373239</td>\n      <td>0.409091</td>\n      <td>0.391167</td>\n      <td>0.500000</td>\n      <td>0.653430</td>\n      <td>0.8</td>\n      <td>0.471698</td>\n      <td>0.604167</td>\n      <td>...</td>\n      <td>0.401408</td>\n      <td>0.323529</td>\n      <td>0.468571</td>\n      <td>0.372152</td>\n      <td>0.348178</td>\n      <td>0.653992</td>\n      <td>0.441860</td>\n      <td>0.58</td>\n      <td>0.362989</td>\n      <td>0.455556</td>\n    </tr>\n    <tr>\n      <th>1997</th>\n      <td>0.439024</td>\n      <td>0.621005</td>\n      <td>0.919014</td>\n      <td>0.257576</td>\n      <td>0.359621</td>\n      <td>0.326087</td>\n      <td>0.725632</td>\n      <td>0.5</td>\n      <td>0.594340</td>\n      <td>0.229167</td>\n      <td>...</td>\n      <td>0.661972</td>\n      <td>0.588235</td>\n      <td>0.502857</td>\n      <td>0.705063</td>\n      <td>0.485830</td>\n      <td>0.342205</td>\n      <td>0.604651</td>\n      <td>0.65</td>\n      <td>0.569395</td>\n      <td>0.433333</td>\n    </tr>\n    <tr>\n      <th>1998</th>\n      <td>0.536585</td>\n      <td>0.456621</td>\n      <td>0.475352</td>\n      <td>0.378788</td>\n      <td>0.539432</td>\n      <td>0.391304</td>\n      <td>0.664260</td>\n      <td>0.6</td>\n      <td>0.754717</td>\n      <td>0.354167</td>\n      <td>...</td>\n      <td>0.563380</td>\n      <td>0.588235</td>\n      <td>0.771429</td>\n      <td>0.784810</td>\n      <td>0.477733</td>\n      <td>0.498099</td>\n      <td>0.627907</td>\n      <td>0.38</td>\n      <td>0.583630</td>\n      <td>0.455556</td>\n    </tr>\n    <tr>\n      <th>1999</th>\n      <td>0.292683</td>\n      <td>0.511416</td>\n      <td>0.348592</td>\n      <td>0.500000</td>\n      <td>0.473186</td>\n      <td>0.347826</td>\n      <td>0.577617</td>\n      <td>0.8</td>\n      <td>0.481132</td>\n      <td>0.375000</td>\n      <td>...</td>\n      <td>0.422535</td>\n      <td>0.382353</td>\n      <td>0.668571</td>\n      <td>0.403797</td>\n      <td>0.384615</td>\n      <td>0.513308</td>\n      <td>0.558140</td>\n      <td>0.54</td>\n      <td>0.544484</td>\n      <td>0.627778</td>\n    </tr>\n  </tbody>\n</table>\n<p>2000 rows × 500 columns</p>\n</div>"
     },
     "execution_count": 64,
     "metadata": {},
     "output_type": "execute_result"
    }
   ],
   "source": [
    "train_df = myMinMaxScaler(train_df)\n",
    "train_df"
   ]
  },
  {
   "cell_type": "code",
   "execution_count": 85,
   "metadata": {
    "collapsed": false,
    "ExecuteTime": {
     "end_time": "2023-12-05T01:22:55.006275615Z",
     "start_time": "2023-12-05T01:22:54.950411026Z"
    }
   },
   "outputs": [
    {
     "name": "stdout",
     "output_type": "stream",
     "text": [
      "(300, 500) (300,)\n"
     ]
    }
   ],
   "source": [
    "number_of_best = 300\n",
    "\n",
    "\n",
    "selectk_pipe = Pipeline([\n",
    "    ('scaler', StandardScaler()),\n",
    "    ('select', SelectKBest(k=number_of_best))\n",
    "])\n",
    "selectk_pipe.fit(train_df, train_labels)\n",
    "feature_scores = (selectk_pipe.named_steps['select'].scores_)\n",
    "madelon_feature_pvalues = list(zip(train_df.columns, selectk_pipe.named_steps['select'].pvalues_))\n",
    "madelon_top_feat_pvalues = sorted(madelon_feature_pvalues, key=lambda x: x[1])[:number_of_best]\n",
    "madelon_top_pvalue_indices = [(x[0]) for x in madelon_top_feat_pvalues]\n",
    "madelon_top_pvalues = [x[1] for x in madelon_top_feat_pvalues]\n",
    "\n",
    "selected_train_values = train_values[madelon_top_pvalue_indices]\n",
    "selected_train_labels = train_labels[madelon_top_pvalue_indices]\n",
    "\n",
    "selected_valid_values = valid_values[madelon_top_pvalue_indices]\n",
    "selected_valid_labels = valid_labels[madelon_top_pvalue_indices]\n",
    "print(selected_valid_values.shape, selected_valid_labels.shape)\n"
   ]
  },
  {
   "cell_type": "code",
   "execution_count": 85,
   "metadata": {
    "ExecuteTime": {
     "end_time": "2023-12-05T01:22:56.178673052Z",
     "start_time": "2023-12-05T01:22:56.165734952Z"
    }
   },
   "outputs": [],
   "source": []
  },
  {
   "cell_type": "code",
   "execution_count": 86,
   "metadata": {
    "ExecuteTime": {
     "end_time": "2023-12-05T01:22:58.964022459Z",
     "start_time": "2023-12-05T01:22:57.230342211Z"
    }
   },
   "outputs": [
    {
     "name": "stdout",
     "output_type": "stream",
     "text": [
      "(300, 500) (300,)\n"
     ]
    },
    {
     "data": {
      "text/plain": "{1: 0.6666666666666666,\n 2: 0.6433333333333333,\n 3: 0.6766666666666666,\n 4: 0.6866666666666666,\n 5: 0.7,\n 6: 0.69,\n 7: 0.7233333333333334,\n 8: 0.6833333333333333,\n 9: 0.7433333333333333,\n 10: 0.72,\n 11: 0.7233333333333334,\n 12: 0.7133333333333334,\n 13: 0.7433333333333333,\n 14: 0.7166666666666667,\n 15: 0.7266666666666667,\n 16: 0.7033333333333334,\n 17: 0.7133333333333334,\n 18: 0.6966666666666667,\n 19: 0.7033333333333334,\n 20: 0.7066666666666667,\n 21: 0.69,\n 22: 0.69,\n 23: 0.6933333333333334,\n 24: 0.68,\n 25: 0.6833333333333333,\n 26: 0.6666666666666666,\n 27: 0.6833333333333333,\n 28: 0.6866666666666666,\n 29: 0.7,\n 30: 0.6966666666666667,\n 31: 0.6966666666666667,\n 32: 0.6833333333333333,\n 33: 0.69,\n 34: 0.6766666666666666,\n 35: 0.6833333333333333,\n 36: 0.6633333333333333,\n 37: 0.68,\n 38: 0.66,\n 39: 0.6933333333333334,\n 40: 0.6733333333333333,\n 41: 0.6833333333333333,\n 42: 0.6833333333333333,\n 43: 0.69,\n 44: 0.6766666666666666,\n 45: 0.6766666666666666,\n 46: 0.6633333333333333,\n 47: 0.68,\n 48: 0.67,\n 49: 0.6733333333333333}"
     },
     "execution_count": 86,
     "metadata": {},
     "output_type": "execute_result"
    }
   ],
   "source": [
    "\n",
    "scores = trainKneighbors(selected_train_values, selected_train_labels, selected_valid_values, selected_valid_labels)\n",
    "scores\n"
   ]
  },
  {
   "cell_type": "code",
   "execution_count": 89,
   "metadata": {
    "ExecuteTime": {
     "end_time": "2023-12-05T01:23:39.377555449Z",
     "start_time": "2023-12-05T01:23:36.466296863Z"
    }
   },
   "outputs": [],
   "source": [
    "mad_raw_valid_scores = {}\n",
    "mad_raw_y_preds = {}\n",
    "\n",
    "for name, clfr in zip(names_of_classifiers, classifiers):\n",
    "    clfr.fit(train_values, train_labels)\n",
    "    # clfr.fit(selected_train_values, selected_train_labels)\n",
    "    valid_score = clfr.score(selected_valid_values, selected_valid_labels)\n",
    "    y_pred = clfr.predict(selected_valid_values)\n",
    "\n",
    "    mad_raw_valid_scores[name] = valid_score\n",
    "    mad_raw_y_preds[name] = y_pred"
   ]
  },
  {
   "cell_type": "code",
   "execution_count": 90,
   "metadata": {
    "ExecuteTime": {
     "end_time": "2023-12-05T01:23:40.546356274Z",
     "start_time": "2023-12-05T01:23:40.534058989Z"
    }
   },
   "outputs": [
    {
     "data": {
      "text/plain": "{'KNeighbors': 0.7,\n 'DecisionTree': 0.7433333333333333,\n 'SVClassifier': 0.7166666666666667}"
     },
     "execution_count": 90,
     "metadata": {},
     "output_type": "execute_result"
    }
   ],
   "source": [
    "mad_raw_valid_scores\n",
    "# {'KNeighbors': 0.705, 'DecisionTree': 0.535, 'SVClassifier': 0.695} Обучение на selected\n",
    "# {'KNeighbors': 0.64, 'DecisionTree': 0.8, 'SVClassifier': 0.74} Обучение на всех\n",
    "# {'KNeighbors': 0.6916666666666667, 'DecisionTree': 0.74, 'SVClassifier': 0.6866666666666666} База"
   ]
  },
  {
   "cell_type": "code",
   "execution_count": 91,
   "metadata": {
    "ExecuteTime": {
     "end_time": "2023-12-05T01:23:54.974137959Z",
     "start_time": "2023-12-05T01:23:54.968710940Z"
    }
   },
   "outputs": [],
   "source": [
    "from sklearn.ensemble import StackingClassifier"
   ]
  },
  {
   "cell_type": "code",
   "execution_count": 92,
   "metadata": {
    "ExecuteTime": {
     "end_time": "2023-12-05T01:23:57.413587805Z",
     "start_time": "2023-12-05T01:23:57.397869417Z"
    }
   },
   "outputs": [],
   "source": [
    "estimators = [('kn', KNeighborsClassifier()), ('dt', DecisionTreeClassifier())]\n",
    "modelClf = StackingClassifier(estimators=estimators, final_estimator=SVC())"
   ]
  },
  {
   "cell_type": "code",
   "execution_count": 93,
   "metadata": {
    "ExecuteTime": {
     "end_time": "2023-12-05T01:24:05.476332841Z",
     "start_time": "2023-12-05T01:23:58.510532072Z"
    }
   },
   "outputs": [
    {
     "name": "stdout",
     "output_type": "stream",
     "text": [
      "0.78\n",
      "0.7733333333333333\n",
      "0.7\n"
     ]
    }
   ],
   "source": [
    "modelClf.fit(train_values, train_labels)\n",
    "print(modelClf.score(valid_values, valid_labels))\n",
    "\n",
    "modelClf.fit(train_values, train_labels)\n",
    "print(modelClf.score(selected_valid_values, selected_valid_labels))\n",
    "\n",
    "modelClf.fit(selected_train_values, selected_train_labels)\n",
    "print(modelClf.score(selected_valid_values, selected_valid_labels))"
   ]
  },
  {
   "cell_type": "code",
   "execution_count": 73,
   "metadata": {
    "ExecuteTime": {
     "end_time": "2023-12-05T01:15:06.196787670Z",
     "start_time": "2023-12-05T01:15:06.163659575Z"
    }
   },
   "outputs": [],
   "source": [
    "# Продлить и переписать тест на соседей\n",
    "# Зарефакторить\n",
    "# Либо шумы реализовать либо прочекать нормализацию\n",
    "# Начать делать презу"
   ]
  }
 ],
 "metadata": {
  "kernelspec": {
   "display_name": "Python 3",
   "language": "python",
   "name": "python3"
  },
  "language_info": {
   "codemirror_mode": {
    "name": "ipython",
    "version": 3
   },
   "file_extension": ".py",
   "mimetype": "text/x-python",
   "name": "python",
   "nbconvert_exporter": "python",
   "pygments_lexer": "ipython3",
   "version": "3.10.12"
  }
 },
 "nbformat": 4,
 "nbformat_minor": 2
}
