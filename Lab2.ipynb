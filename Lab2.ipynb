{
 "cells": [
  {
   "cell_type": "code",
   "execution_count": 10,
   "metadata": {},
   "outputs": [
    {
     "name": "stdout",
     "output_type": "stream",
     "text": [
      "[[485 477 537 ... 479 475 496]\n",
      " [483 458 460 ... 492 510 517]\n",
      " [487 542 499 ... 489 499 498]\n",
      " ...\n",
      " [480 517 631 ... 500 523 481]\n",
      " [484 481 505 ... 473 527 485]\n",
      " [474 493 469 ... 489 516 516]]\n"
     ]
    }
   ],
   "source": [
    "import numpy as np\n",
    "import pylab as pl\n",
    "from sklearn.neighbors import KNeighborsClassifier as KNN\n",
    "\n",
    "with open(\"madelon_train.data\", \"r\") as f:\n",
    "    X = np.fromstring(f.read(), dtype=int, sep=\" \").reshape((2000, 500))\n",
    "print(X)\n",
    "\n",
    "# clf = KNN(n_neighbors=3)\n",
    "# clf.fit(X, y) #обучение\n",
    "# print(clf)"
   ]
  }
 ],
 "metadata": {
  "kernelspec": {
   "display_name": "Python 3",
   "language": "python",
   "name": "python3"
  },
  "language_info": {
   "codemirror_mode": {
    "name": "ipython",
    "version": 3
   },
   "file_extension": ".py",
   "mimetype": "text/x-python",
   "name": "python",
   "nbconvert_exporter": "python",
   "pygments_lexer": "ipython3",
   "version": "3.10.12"
  }
 },
 "nbformat": 4,
 "nbformat_minor": 2
}
